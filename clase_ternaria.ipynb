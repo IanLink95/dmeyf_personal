{
 "cells": [
  {
   "cell_type": "code",
   "execution_count": 3,
   "metadata": {},
   "outputs": [
    {
     "name": "stdout",
     "output_type": "stream",
     "text": [
      "0\n",
      "100000\n",
      "200000\n",
      "300000\n",
      "400000\n",
      "500000\n",
      "600000\n",
      "700000\n",
      "800000\n",
      "900000\n"
     ]
    }
   ],
   "source": [
    "#a. Importo la librería.\n",
    "import pandas as pd\n",
    "#b. Leo el DataFrame.\n",
    "df = pd.read_csv(\"./competencia_01_crudo.csv\")\n",
    "#c. Ordeno el DataFrame y reseteo el index.\n",
    "df = df.sort_values(by=[\"numero_de_cliente\", \"foto_mes\"], ascending=True)\n",
    "df= df.reset_index(drop=True)\n",
    "#d. Genero una copia para trabajarla con la clase ternaria.\n",
    "df_clase = df.copy()\n",
    "#e. Filtro las columnas de interés.\n",
    "df_clase = df_clase[[\"numero_de_cliente\",\"foto_mes\"]]\n",
    "#f. Creo una columna para contar el orden de aparición del mes por cliente.\n",
    "df_clase[\"Acumulado\"] = 1\n",
    "df_clase[\"Acumulado\"]= df_clase.groupby(\"numero_de_cliente\").cumsum()[\"Acumulado\"]\n",
    "#g. Creo la columna de \"CLASE_TERNARIA\".\n",
    "#i. Reseteo el índice para recorrerlo luego.\n",
    "df_clase[\"CLASE_TERNARIA\"] = None\n",
    "#ii. Recorro cada combinacion cliente-mes, y evaluo si es baja al siguiente mes, a los dos meses o continua.\n",
    "for indice in range(len(df_clase)):\n",
    "    #1. Verifico el mes de evaluación (para no evaluar meses posterior a abril).\n",
    "    if df_clase.iloc[indice][\"foto_mes\"] <= 202104:\n",
    "        #A. Creo condiciones de evaluación.\n",
    "        verific_sig_mes = (df_clase.iloc[indice + 1][\"Acumulado\"] == df_clase.iloc[indice][\"Acumulado\"] + 1)\n",
    "        verific_sig_dos_meses = (df_clase.iloc[indice + 2][\"Acumulado\"] == df_clase.iloc[indice][\"Acumulado\"] + 2)\n",
    "        #B. Evaluo dichas condiciones.\n",
    "        if not verific_sig_mes:\n",
    "            df_clase.loc[indice, \"CLASE_TERNARIA\"] = \"BAJA+1\"\n",
    "        elif verific_sig_mes and not verific_sig_dos_meses:\n",
    "            df_clase.loc[indice, \"CLASE_TERNARIA\"] = \"BAJA+2\"\n",
    "        elif verific_sig_mes and verific_sig_dos_meses:\n",
    "            df_clase.loc[indice, \"CLASE_TERNARIA\"] = \"CONTINUA\"\n",
    "        else:\n",
    "            df_clase.loc[indice, \"CLASE_TERNARIA\"] = \"Error\"\n",
    "    else:\n",
    "        df_clase.loc[indice, \"CLASE_TERNARIA\"] = None\n",
    "    #2. Imprimo por que número de fila está el proceso.      \n",
    "    if indice % 100000 == 0:\n",
    "        print(indice)\n",
    "#h. Me quedo con la columna de interés, y la mergeo al dataframe original.\n",
    "df[\"clase_ternaria\"] = df_clase[\"CLASE_TERNARIA\"]\n",
    "#i. Almaceno el Dataframe como csv.\n",
    "df.to_csv(\"./competencia_01.csv\")"
   ]
  }
 ],
 "metadata": {
  "kernelspec": {
   "display_name": "Exportacion_CostosyPrecios",
   "language": "python",
   "name": "python3"
  },
  "language_info": {
   "codemirror_mode": {
    "name": "ipython",
    "version": 3
   },
   "file_extension": ".py",
   "mimetype": "text/x-python",
   "name": "python",
   "nbconvert_exporter": "python",
   "pygments_lexer": "ipython3",
   "version": "3.11.4"
  }
 },
 "nbformat": 4,
 "nbformat_minor": 2
}
